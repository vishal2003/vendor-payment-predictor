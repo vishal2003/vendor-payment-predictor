{
 "cells": [
  {
   "cell_type": "code",
   "execution_count": null,
   "id": "653714ea",
   "metadata": {},
   "outputs": [],
   "source": [
    "import pandas as pd\n",
    "import numpy as np\n",
    "import matplotlib.pyplot as plt\n",
    "import seaborn as sns\n",
    "from sklearn.linear_model import LinearRegression\n",
    "from sklearn.ensemble import RandomForestRegressor, IsolationForest\n",
    "from sklearn.model_selection import train_test_split\n",
    "from sklearn.metrics import mean_squared_error, r2_score\n",
    "import warnings\n",
    "warnings.filterwarnings(\"ignore\")"
   ]
  },
  {
   "cell_type": "code",
   "execution_count": null,
   "id": "4a362512",
   "metadata": {},
   "outputs": [],
   "source": [
    "# Load dataset\n",
    "df = pd.read_csv('../data/vendor_payments.csv', parse_dates=['Invoice_Date', 'Payment_Due_Date', 'Payment_Date'])\n",
    "df.head()"
   ]
  },
  {
   "cell_type": "code",
   "execution_count": null,
   "id": "502e1c4d",
   "metadata": {},
   "outputs": [],
   "source": [
    "# Create delay columns\n",
    "df['Delay_Days'] = (df['Payment_Date'] - df['Payment_Due_Date']).dt.days\n",
    "df['is_delayed'] = df['Delay_Days'].apply(lambda x: 1 if x > 0 else 0)\n",
    "df.head()"
   ]
  },
  {
   "cell_type": "code",
   "execution_count": null,
   "id": "892973e6",
   "metadata": {},
   "outputs": [],
   "source": [
    "# Visualizing delay distribution\n",
    "plt.figure(figsize=(8,4))\n",
    "sns.histplot(df['Delay_Days'], kde=True)\n",
    "plt.title('Payment Delay Distribution')\n",
    "plt.show()\n",
    "\n",
    "# Department wise average delay\n",
    "plt.figure(figsize=(8,4))\n",
    "sns.boxplot(x='Department', y='Delay_Days', data=df)\n",
    "plt.title('Department wise Delay')\n",
    "plt.show()"
   ]
  },
  {
   "cell_type": "code",
   "execution_count": null,
   "id": "fefb74eb",
   "metadata": {},
   "outputs": [],
   "source": [
    "# Convert categorical columns\n",
    "df_model = pd.get_dummies(df, columns=['Payment_Method', 'Department'])\n",
    "\n",
    "# Features and target\n",
    "X = df_model.drop(columns=['Invoice_ID', 'Vendor_ID', 'Invoice_Date', 'Payment_Due_Date', 'Payment_Date', 'Delay_Days', 'is_delayed'])\n",
    "y = df_model['Delay_Days']\n",
    "\n",
    "# Split data\n",
    "X_train, X_test, y_train, y_test = train_test_split(X, y, test_size=0.2, random_state=42)\n",
    "\n",
    "# Train Model\n",
    "model = RandomForestRegressor()\n",
    "model.fit(X_train, y_train)\n",
    "\n",
    "# Predict and Evaluate\n",
    "y_pred = model.predict(X_test)\n",
    "print(\"RMSE:\", np.sqrt(mean_squared_error(y_test, y_pred)))\n",
    "print(\"R2 Score:\", r2_score(y_test, y_pred))"
   ]
  },
  {
   "cell_type": "code",
   "execution_count": null,
   "id": "b8b4085b",
   "metadata": {},
   "outputs": [],
   "source": [
    "# Using Isolation Forest to detect anomalies\n",
    "clf = IsolationForest(contamination=0.2, random_state=42)\n",
    "df['anomaly_score'] = clf.fit_predict(df[['Delay_Days']])\n",
    "\n",
    "# Show anomalies\n",
    "anomalies = df[df['anomaly_score'] == -1]\n",
    "print(\"Anomalies Detected:\")\n",
    "anomalies[['Invoice_ID', 'Delay_Days', 'Department']]"
   ]
  }
 ],
 "metadata": {},
 "nbformat": 4,
 "nbformat_minor": 5
}